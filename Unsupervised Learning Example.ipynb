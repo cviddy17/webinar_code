{
 "cells": [
  {
   "cell_type": "code",
   "execution_count": 1,
   "metadata": {},
   "outputs": [],
   "source": [
    "import pandas as pd\n",
    "from sklearn.cluster import KMeans\n",
    "from sklearn.feature_extraction.text import CountVectorizer"
   ]
  },
  {
   "cell_type": "code",
   "execution_count": 2,
   "metadata": {},
   "outputs": [
    {
     "data": {
      "text/plain": [
       "'\\nWritten by Chad Valencia, chadvalencia@gmail.com\\n\\nData derived from https://www.kaggle.com/nzalake52/new-york-times-articles\\n'"
      ]
     },
     "execution_count": 2,
     "metadata": {},
     "output_type": "execute_result"
    }
   ],
   "source": [
    "'''\n",
    "Written by Chad Valencia, chadvalencia@gmail.com\n",
    "\n",
    "Data derived from https://www.kaggle.com/nzalake52/new-york-times-articles\n",
    "'''"
   ]
  },
  {
   "cell_type": "code",
   "execution_count": 3,
   "metadata": {},
   "outputs": [],
   "source": [
    "with open('data/nytimes_news_articles.txt', 'r') as myfile:\n",
    "    data=myfile.read()"
   ]
  },
  {
   "cell_type": "code",
   "execution_count": 4,
   "metadata": {},
   "outputs": [],
   "source": [
    "temp_list = data.split('\\n\\n')"
   ]
  },
  {
   "cell_type": "code",
   "execution_count": 5,
   "metadata": {},
   "outputs": [
    {
     "data": {
      "text/plain": [
       "17786"
      ]
     },
     "execution_count": 5,
     "metadata": {},
     "output_type": "execute_result"
    }
   ],
   "source": [
    "len(temp_list) #shows how many total entries there are."
   ]
  },
  {
   "cell_type": "code",
   "execution_count": 23,
   "metadata": {},
   "outputs": [
    {
     "name": "stdout",
     "output_type": "stream",
     "text": [
      "['URL: http://www.nytimes.com/2016/06/30/sports/baseball/washington-nationals-max-scherzer-baffles-mets-completing-a-sweep.html', 'WASHINGTON — Stellar pitching kept the Mets afloat in the first half of last season despite their offensive woes. But they cannot produce an encore of their pennant-winning season if their lineup keeps floundering while their pitching is nicked, bruised and stretched thin.\\n“We were going to ride our pitching,” Manager Terry Collins said before Wednesday’s game. “But we’re not riding it right now. We’ve got as many problems with our pitching as we do anything.”\\nWednesday’s 4-2 loss to the Washington Nationals was cruel for the already-limping Mets. Pitching in Steven Matz’s place, the spot starter Logan Verrett allowed two runs over five innings. But even that was too large a deficit for the Mets’ lineup to overcome against Max Scherzer, the Nationals’ starter.\\n“We’re not even giving ourselves chances,” Collins said, adding later, “We just can’t give our pitchers any room to work.”\\nThe Mets did not score until the ninth inning, when a last-gasp two-run homer by James Loney off Nationals reliever Shawn Kelley snapped a streak of 23 scoreless innings for the team.\\nThe Mets were swept in the three-game series and fell six games behind the Nationals in the National League East. Of late, the Mets have looked worse than their 40-37 record.\\n“I don’t think we’ve played half our games yet this year,” right fielder Curtis Granderson said. “There’s still a lot of things left that can and hopefully will happen.”\\nScherzer toyed with the Mets, who were initially without Granderson after he was scratched from the lineup with lingering calf tightness. Even though Granderson has been inconsistent this season, he had hit well against Scherzer in the past. Alejandro De Aza, who entered the game with a .165 average, started in right field instead because Collins said the team had few options.\\nAfter Scherzer gave up a single to Asdrubal Cabrera and walked Loney in the second inning, he retired the next 18 batters, until an eighth-inning single by Brandon Nimmo.\\nThe Mets struggled again with runners on base. After Nimmo and the pinch-hitting Granderson singled in the eighth, pinch-hitter Travis d’Arnaud grounded out, and De Aza struck out.\\n“If they keep adding pressure on themselves, they’re going to continue to struggle,” Collins said. “That’s one of the things we try to make sure they have to understand: They have to be themselves.”\\nGeneral Manager Sandy Alderson, Collins and the coaching staff have met about the offense and discussed the odd dynamics: Some players are performing at or better than their career averages, but the lineup as a whole has struggled immensely, especially with runners in scoring position.\\n“We’re just not driving in any runs,” Collins said. “That’s been the frustrating part. It’s not that we’re striking out. We’re popping up, or a double-play ball.”\\nThe Mets have a power-hitting team, so asking players to bunt or hit and run would go against their strengths.\\n“When you start to change a team that’s built one way and start to make them do something different, you’re going to get your butt beat,” Collins said.\\nEarlier in the season, the Mets appeared like an all-or-nothing, home-run-driven team. Although they hit only .211 as a team in May, they smashed 40 home runs. They have a higher average in June, but they have hit only 24 homers, and the inconsistent offense has put a strain on the pitching staff.\\nIn the second inning, Verrett gave up a solo home run to the ex-Met Daniel Murphy. Collins wanted to limit the workloads of Addison Reed and Jeurys Familia, so he turned to reliever Sean Gilmartin in the eighth. Gilmartin gave up a two-run homer to Murphy, who has hit .429 (15 for 35) with four home runs against the Mets this season, his first since leaving the team.\\n“I felt like I kept us in the game and gave us a chance to come back and win it,” Verrett said. “I wish that I wouldn’t have given up the two runs.”\\nVerrett was put in this position because of the effects of bone spurs on the Mets’ rotation. The team asked Verrett to start Wednesday and gave Matz an extra day of rest after he received anti-inflammatory medication for the large bone spur in his left elbow. He will try to pitch through it.\\nNoah Syndergaard has a smaller and less intrusive bone spur in the back of his right elbow.\\n“As long as I’m staying on my anti-inflammatories and my mechanics are on point, I’m able to go out there every five days and compete,” Syndergaard said.\\nFor the Mets, the immediate road ahead will be even tougher. Matz was expected to pitch Thursday against the Chicago Cubs, one of the best teams in baseball this season.', 'URL: http://www.nytimes.com/2016/06/30/nyregion/mayor-de-blasios-counsel-to-leave-next-month-to-lead-police-review-board.html', 'Mayor Bill de Blasio’s counsel and chief legal adviser, Maya Wiley, is resigning next month from her City Hall position to become the chairwoman of the Civilian Complaint Review Board, New York City’s independent oversight agency for the Police Department.\\nThe move represents the latest shake-up for the de Blasio administration amid continuing state and federal investigations into the mayor’s fund-raising, and fills a two-month vacancy at the police review board created by the resignation of its chairman, Richard D. Emery, in April.\\nA civil rights lawyer and advocate for racial and social justice, Ms. Wiley joined the de Blasio administration in early 2014 to focus on legal issues as well as on the mayor’s efforts to address issues of inequality. But over time, Ms. Wiley became discouraged over not being part of Mr. de Blasio’s inner circle and felt cut out of both legal questions and advocacy, according to a person familiar with her thinking. On the former, Mr. de Blasio often relied instead on the city’s corporation counsel and Henry Berger, the mayor’s special counsel; on the latter, he favored his top political aides. The person requested anonymity to discuss private conversations.\\nMore recently, Ms. Wiley was assigned to help craft the administration’s legal response to the state and federal inquiries as well as to requests for the public disclosure of documents, notably emails between Mr. de Blasio and trusted advisers outside the administration.\\nIt was in response to a question from reporters about the withholding of those emails with advisers that Ms. Wiley, defending the practice, described the advisers as “agents of the city” — a designation that appeared novel and resulted in days of unfavorable press coverage.\\nIn a statement on Wednesday, Mr. de Blasio thanked Ms. Wiley for her service and congratulated her on her new role.\\nThe review board investigates allegations of misconduct by officers and makes recommendations for discipline to the Police Department. Its data on the number of complaints, and its investigations of officers, provide an important barometer of police behavior and a politically important one for Mr. de Blasio, a Democrat who campaigned on improving police-community relations.\\nMr. Wiley will also take a position at the New School in Manhattan. Her moves were reported by The Wall Street Journal.\\nThe announcement of Ms. Wiley’s departure from City Hall followed that of a recently hired director of social media, Scott Kleinberg, who resigned on Saturday, just eight weeks after being hired to bring greater personality to the Twitter, Facebook and other online accounts associated with the mayor’s office. His resignation was reported by DNA Info.\\nIn a Facebook post that was later removed, Mr. Kleinberg complained of long hours and micromanagement and described his experience with the administration as working with “political hacks plus a boss who just couldn’t get it,” adding, “It was a bad combination for sure.” Mr. Kleinberg declined to comment.\\nThe departures came less than two months after Karen Hinton, the mayor’s top spokeswoman, announced her resignation from the administration. (She stayed in the position until mid-June.)', 'URL: http://www.nytimes.com/2016/06/30/nyregion/three-men-charged-in-killing-of-cuomo-administration-lawyer.html']\n"
     ]
    }
   ],
   "source": [
    "print(temp_list[0:5])"
   ]
  },
  {
   "cell_type": "code",
   "execution_count": 7,
   "metadata": {},
   "outputs": [
    {
     "name": "stdout",
     "output_type": "stream",
     "text": [
      "WASHINGTON — Stellar pitching kept the Mets afloat in the first half of last season despite their offensive woes. But they cannot produce an encore of their pennant-winning season if their lineup keeps floundering while their pitching is nicked, bruised and stretched thin.\n",
      "“We were going to ride our pitching,” Manager Terry Collins said before Wednesday’s game. “But we’re not riding it right now. We’ve got as many problems with our pitching as we do anything.”\n",
      "Wednesday’s 4-2 loss to the Washington Nationals was cruel for the already-limping Mets. Pitching in Steven Matz’s place, the spot starter Logan Verrett allowed two runs over five innings. But even that was too large a deficit for the Mets’ lineup to overcome against Max Scherzer, the Nationals’ starter.\n",
      "“We’re not even giving ourselves chances,” Collins said, adding later, “We just can’t give our pitchers any room to work.”\n",
      "The Mets did not score until the ninth inning, when a last-gasp two-run homer by James Loney off Nationals reliever Shawn Kelley snapped a streak of 23 scoreless innings for the team.\n",
      "The Mets were swept in the three-game series and fell six games behind the Nationals in the National League East. Of late, the Mets have looked worse than their 40-37 record.\n",
      "“I don’t think we’ve played half our games yet this year,” right fielder Curtis Granderson said. “There’s still a lot of things left that can and hopefully will happen.”\n",
      "Scherzer toyed with the Mets, who were initially without Granderson after he was scratched from the lineup with lingering calf tightness. Even though Granderson has been inconsistent this season, he had hit well against Scherzer in the past. Alejandro De Aza, who entered the game with a .165 average, started in right field instead because Collins said the team had few options.\n",
      "After Scherzer gave up a single to Asdrubal Cabrera and walked Loney in the second inning, he retired the next 18 batters, until an eighth-inning single by Brandon Nimmo.\n",
      "The Mets struggled again with runners on base. After Nimmo and the pinch-hitting Granderson singled in the eighth, pinch-hitter Travis d’Arnaud grounded out, and De Aza struck out.\n",
      "“If they keep adding pressure on themselves, they’re going to continue to struggle,” Collins said. “That’s one of the things we try to make sure they have to understand: They have to be themselves.”\n",
      "General Manager Sandy Alderson, Collins and the coaching staff have met about the offense and discussed the odd dynamics: Some players are performing at or better than their career averages, but the lineup as a whole has struggled immensely, especially with runners in scoring position.\n",
      "“We’re just not driving in any runs,” Collins said. “That’s been the frustrating part. It’s not that we’re striking out. We’re popping up, or a double-play ball.”\n",
      "The Mets have a power-hitting team, so asking players to bunt or hit and run would go against their strengths.\n",
      "“When you start to change a team that’s built one way and start to make them do something different, you’re going to get your butt beat,” Collins said.\n",
      "Earlier in the season, the Mets appeared like an all-or-nothing, home-run-driven team. Although they hit only .211 as a team in May, they smashed 40 home runs. They have a higher average in June, but they have hit only 24 homers, and the inconsistent offense has put a strain on the pitching staff.\n",
      "In the second inning, Verrett gave up a solo home run to the ex-Met Daniel Murphy. Collins wanted to limit the workloads of Addison Reed and Jeurys Familia, so he turned to reliever Sean Gilmartin in the eighth. Gilmartin gave up a two-run homer to Murphy, who has hit .429 (15 for 35) with four home runs against the Mets this season, his first since leaving the team.\n",
      "“I felt like I kept us in the game and gave us a chance to come back and win it,” Verrett said. “I wish that I wouldn’t have given up the two runs.”\n",
      "Verrett was put in this position because of the effects of bone spurs on the Mets’ rotation. The team asked Verrett to start Wednesday and gave Matz an extra day of rest after he received anti-inflammatory medication for the large bone spur in his left elbow. He will try to pitch through it.\n",
      "Noah Syndergaard has a smaller and less intrusive bone spur in the back of his right elbow.\n",
      "“As long as I’m staying on my anti-inflammatories and my mechanics are on point, I’m able to go out there every five days and compete,” Syndergaard said.\n",
      "For the Mets, the immediate road ahead will be even tougher. Matz was expected to pitch Thursday against the Chicago Cubs, one of the best teams in baseball this season.\n"
     ]
    }
   ],
   "source": [
    "print(temp_list[1])"
   ]
  },
  {
   "cell_type": "code",
   "execution_count": 8,
   "metadata": {},
   "outputs": [
    {
     "name": "stdout",
     "output_type": "stream",
     "text": [
      "URL: http://www.nytimes.com/2016/06/30/nyregion/mayor-de-blasios-counsel-to-leave-next-month-to-lead-police-review-board.html\n"
     ]
    }
   ],
   "source": [
    "print(temp_list[2])"
   ]
  },
  {
   "cell_type": "code",
   "execution_count": 9,
   "metadata": {},
   "outputs": [],
   "source": [
    "#moves odd indexed strings to new list\n",
    "nyt_list = []\n",
    "for i in range(len(temp_list)):\n",
    "    if i%2 == 1:\n",
    "        nyt_list.append(temp_list[i])"
   ]
  },
  {
   "cell_type": "code",
   "execution_count": 10,
   "metadata": {},
   "outputs": [
    {
     "data": {
      "text/plain": [
       "['WASHINGTON — Stellar pitching kept the Mets afloat in the first half of last season despite their offensive woes. But they cannot produce an encore of their pennant-winning season if their lineup keeps floundering while their pitching is nicked, bruised and stretched thin.\\n“We were going to ride our pitching,” Manager Terry Collins said before Wednesday’s game. “But we’re not riding it right now. We’ve got as many problems with our pitching as we do anything.”\\nWednesday’s 4-2 loss to the Washington Nationals was cruel for the already-limping Mets. Pitching in Steven Matz’s place, the spot starter Logan Verrett allowed two runs over five innings. But even that was too large a deficit for the Mets’ lineup to overcome against Max Scherzer, the Nationals’ starter.\\n“We’re not even giving ourselves chances,” Collins said, adding later, “We just can’t give our pitchers any room to work.”\\nThe Mets did not score until the ninth inning, when a last-gasp two-run homer by James Loney off Nationals reliever Shawn Kelley snapped a streak of 23 scoreless innings for the team.\\nThe Mets were swept in the three-game series and fell six games behind the Nationals in the National League East. Of late, the Mets have looked worse than their 40-37 record.\\n“I don’t think we’ve played half our games yet this year,” right fielder Curtis Granderson said. “There’s still a lot of things left that can and hopefully will happen.”\\nScherzer toyed with the Mets, who were initially without Granderson after he was scratched from the lineup with lingering calf tightness. Even though Granderson has been inconsistent this season, he had hit well against Scherzer in the past. Alejandro De Aza, who entered the game with a .165 average, started in right field instead because Collins said the team had few options.\\nAfter Scherzer gave up a single to Asdrubal Cabrera and walked Loney in the second inning, he retired the next 18 batters, until an eighth-inning single by Brandon Nimmo.\\nThe Mets struggled again with runners on base. After Nimmo and the pinch-hitting Granderson singled in the eighth, pinch-hitter Travis d’Arnaud grounded out, and De Aza struck out.\\n“If they keep adding pressure on themselves, they’re going to continue to struggle,” Collins said. “That’s one of the things we try to make sure they have to understand: They have to be themselves.”\\nGeneral Manager Sandy Alderson, Collins and the coaching staff have met about the offense and discussed the odd dynamics: Some players are performing at or better than their career averages, but the lineup as a whole has struggled immensely, especially with runners in scoring position.\\n“We’re just not driving in any runs,” Collins said. “That’s been the frustrating part. It’s not that we’re striking out. We’re popping up, or a double-play ball.”\\nThe Mets have a power-hitting team, so asking players to bunt or hit and run would go against their strengths.\\n“When you start to change a team that’s built one way and start to make them do something different, you’re going to get your butt beat,” Collins said.\\nEarlier in the season, the Mets appeared like an all-or-nothing, home-run-driven team. Although they hit only .211 as a team in May, they smashed 40 home runs. They have a higher average in June, but they have hit only 24 homers, and the inconsistent offense has put a strain on the pitching staff.\\nIn the second inning, Verrett gave up a solo home run to the ex-Met Daniel Murphy. Collins wanted to limit the workloads of Addison Reed and Jeurys Familia, so he turned to reliever Sean Gilmartin in the eighth. Gilmartin gave up a two-run homer to Murphy, who has hit .429 (15 for 35) with four home runs against the Mets this season, his first since leaving the team.\\n“I felt like I kept us in the game and gave us a chance to come back and win it,” Verrett said. “I wish that I wouldn’t have given up the two runs.”\\nVerrett was put in this position because of the effects of bone spurs on the Mets’ rotation. The team asked Verrett to start Wednesday and gave Matz an extra day of rest after he received anti-inflammatory medication for the large bone spur in his left elbow. He will try to pitch through it.\\nNoah Syndergaard has a smaller and less intrusive bone spur in the back of his right elbow.\\n“As long as I’m staying on my anti-inflammatories and my mechanics are on point, I’m able to go out there every five days and compete,” Syndergaard said.\\nFor the Mets, the immediate road ahead will be even tougher. Matz was expected to pitch Thursday against the Chicago Cubs, one of the best teams in baseball this season.',\n",
       " 'Mayor Bill de Blasio’s counsel and chief legal adviser, Maya Wiley, is resigning next month from her City Hall position to become the chairwoman of the Civilian Complaint Review Board, New York City’s independent oversight agency for the Police Department.\\nThe move represents the latest shake-up for the de Blasio administration amid continuing state and federal investigations into the mayor’s fund-raising, and fills a two-month vacancy at the police review board created by the resignation of its chairman, Richard D. Emery, in April.\\nA civil rights lawyer and advocate for racial and social justice, Ms. Wiley joined the de Blasio administration in early 2014 to focus on legal issues as well as on the mayor’s efforts to address issues of inequality. But over time, Ms. Wiley became discouraged over not being part of Mr. de Blasio’s inner circle and felt cut out of both legal questions and advocacy, according to a person familiar with her thinking. On the former, Mr. de Blasio often relied instead on the city’s corporation counsel and Henry Berger, the mayor’s special counsel; on the latter, he favored his top political aides. The person requested anonymity to discuss private conversations.\\nMore recently, Ms. Wiley was assigned to help craft the administration’s legal response to the state and federal inquiries as well as to requests for the public disclosure of documents, notably emails between Mr. de Blasio and trusted advisers outside the administration.\\nIt was in response to a question from reporters about the withholding of those emails with advisers that Ms. Wiley, defending the practice, described the advisers as “agents of the city” — a designation that appeared novel and resulted in days of unfavorable press coverage.\\nIn a statement on Wednesday, Mr. de Blasio thanked Ms. Wiley for her service and congratulated her on her new role.\\nThe review board investigates allegations of misconduct by officers and makes recommendations for discipline to the Police Department. Its data on the number of complaints, and its investigations of officers, provide an important barometer of police behavior and a politically important one for Mr. de Blasio, a Democrat who campaigned on improving police-community relations.\\nMr. Wiley will also take a position at the New School in Manhattan. Her moves were reported by The Wall Street Journal.\\nThe announcement of Ms. Wiley’s departure from City Hall followed that of a recently hired director of social media, Scott Kleinberg, who resigned on Saturday, just eight weeks after being hired to bring greater personality to the Twitter, Facebook and other online accounts associated with the mayor’s office. His resignation was reported by DNA Info.\\nIn a Facebook post that was later removed, Mr. Kleinberg complained of long hours and micromanagement and described his experience with the administration as working with “political hacks plus a boss who just couldn’t get it,” adding, “It was a bad combination for sure.” Mr. Kleinberg declined to comment.\\nThe departures came less than two months after Karen Hinton, the mayor’s top spokeswoman, announced her resignation from the administration. (She stayed in the position until mid-June.)',\n",
       " 'In the early morning hours of Labor Day last year, a group of gunmen from the 8-Trey street gang made their way through a crowd of revelers gathered near a Brooklyn public housing project to celebrate J’ouvert, a pre-dawn party that precedes the annual West Indian American Day Parade. The housing project was “enemy territory,” the authorities said, the stronghold of a rival gang, the Folk Nation.\\nAs hundreds of people drank and danced in costume, the warring factions spotted each other, and a gunfight broke out in the darkness. Caught in the crossfire was an up-and-coming lawyer in the administration of Gov. Andrew M. Cuomo, Carey Gabay, who was at the festivities with his brother. Mr. Gabay, 43, who was of Jamaican heritage, died a week later from his wounds.\\nFor some in government and law enforcement circles, the death of Mr. Gabay, who had risen from a childhood in Bronx public housing to Harvard Law School and then to public service, was emblematic of the havoc that street gangs have inflicted on New York City residents.\\nOn Wednesday, as part of a continuing investigation, the authorities announced that three men had been indicted in the killing.\\nOne of the men, Micah Alleyne, 24, was already in custody, having been indicted last month. The other two — Tyshawn Crawford, 21, and Keith Luncheon, 24 — were named along with Mr. Alleyne in a new indictment on Wednesday, which holds all three equally responsible for Mr. Gabay’s murder. Each of the men is charged with second-degree murder.\\n“These defendants are charged with creating a killing field in a crowd of innocent people, showing depraved indifference to human life and causing the death of Carey Gabay,” Ken Thompson, the Brooklyn district attorney, said in a statement about the case.\\nAt a news conference at his office, Mr. Thompson said that 20 gang members, armed with as many as 27 guns, had taken part in the gunfight in which dozens of shots were fired. He promised to seek indictments against the others involved in the episode. “This is just the beginning,” he said.\\nAt the time of his death, Mr. Gabay was first deputy counsel for the Empire State Development Corporation and lived with his wife in the Clinton Hill section of Brooklyn. He was shot in the head while trying to escape the gunfire by ducking between two cars in a parking lot at the Ebbets Field Houses on Bedford Avenue in Crown Heights.\\nThe housing complex had long been Folk Nation turf, Mr. Thompson said, and several of the gang’s members were among the crowd on an outdoor patio there during the J’ouvert celebration. Most of the shots fired that morning came from the direction of the patio, Mr. Thompson added. Members of both the Folk Nation and the 8-Treys had standing orders, he said, to open fire at each other on sight.\\n“When these two gangs see each other,” Mr. Thompson said, “there is no talking, just shooting.”\\nSurveillance-camera footage taken that morning, which Mr. Thompson played at the news conference, showed people frantically fleeing the patio and scurrying for cover as shots rang out. Investigators also discovered footage that Mr. Thompson said shows Mr. Alleyne firing a gun into the crowd, then running into a building at the Ebbets Field Houses.\\nMr. Alleyne, who was living in a homeless shelter in Jamaica, Queens, when he was arrested in May, was a Folk Nation member, Mr. Thompson said. He added that Mr. Crawford, who lives in East New York, belonged to the Hoodstarz gang, which is allied with the Folk Nation. Mr. Thompson described Mr. Luncheon, who lives in Crown Heights, as a member of the 8-Trey gang, a faction of the Crips.\\nA fourth defendant, Stanley Elianor, 25, was indicted in October on weapons charges in connection with Mr. Gabay’s murder for carrying a MAC-10 machine pistol during the melee.\\nPolice Commissioner William J. Bratton, appearing with Mr. Thompson at the news conference, said his department was targeting street gangs across the city, adding that officers had arrested gang members in three separate operations in Manhattan on Wednesday morning. Mr. Bratton also said that this year, for the first time, J’ouvert organizers would have to secure a permit for their event, which has traditionally taken place without official city approval. The police, the commissioner said, would increase their presence at the festivities in September to ensure there was no violence.\\n“If so much as a sneeze is made by these gangs in the run-up to the festival, we will be there,” Mr. Bratton said, “and not to say, ‘gesundheit.’ ”',\n",
       " 'It was the Apple Store in New York City before there was such a thing as an Apple Store.\\nBefore iPods and iPads and iPhones, before Apple started selling and servicing its devices out of a glass cube on Fifth Avenue, the eclectic Tekserve store on West 23rd Street in Manhattan was where customers went for upgrades to their PowerBook laptops or to have their computers fixed.\\nBut times have changed, Tekserve’s managers said, and on Wednesday, they announced that the company was closing its retail and customer-service operation. The service center will remain open until July 31, and the retail store will close on Aug. 15. About 70 employees will lose their jobs, the company said.\\n“This is a cultural shift,” the company’s chief executive, Jerry Gepner, said in an interview in his office above the store. “It’s not a failure of the business. It’s like this giant wave finally crashed down upon us.”\\nTekserve found its niche in an era when Apple had a much smaller slice of the computer market. Among many of Tekserve’s customers then, Apple computers had a devoted following. “It was the cult of Mac,” said Mr. Gepner, who, before running Tekserve, was a regular customer.\\nHe said that customers had gravitated to Tekserve to buy Apple computers, have them serviced or have questions about them answered at a time when computers were more cumbersome to use and help was not simply a Google search away. “It was also a gathering place,” Mr. Gepner said, “where knowledge was shared.”\\nTekserve opened in 1987, focusing exclusively on repairs at first, and has always operated out of spaces on 23rd Street, between Sixth and Seventh Avenues. More than 15 years ago, it moved into its current home, with 10,000 square feet of retail and service space, and grew into something of a New York City fixture. On “Sex and the City,” for instance, when Carrie Bradshaw’s laptop crashed, she rushed to Tekserve.\\nWhile Apple’s own stores are sleek and modern in appearance, Tekserve had the feel of a throwback, its shelves lined with old-fashioned radios and a soda machine where customers could grab a chilled Coca-Cola in a glass bottle. There was also a “museum” of Apple computers, with models dating back more than three decades, including a Macintosh 128K — the original Apple Macintosh personal computer — signed by Stephen Wozniak, the company’s co-founder.\\nThese days, though, Apple has six stores in Manhattan, including one in Chelsea, not far from Tekserve. There is also a Best Buy store just on the other side of Sixth Avenue from Tekserve. And then there are the options online.\\nResellers like Tekserve, once among the few places where customers could get Apple products, have been the victims of the technology company’s growth. But also, Tekserve said in a statement, swiftly rising rent has not helped.\\nMr. Gepner said that when he joined Tekserve in 2014, the owners asked him to see whether the diminishing retail operation could be saved. But, he said, the owners realized that a turnaround seemed unlikely. “For us,” he said, “the trend wasn’t going to reverse.”\\nTalk of the store’s closing had circulated for weeks among neighbors and regular customers. Employees were officially told on Wednesday that the end was imminent.\\n“We love our customers, and we love what we do,” Mr. Gepner said. “But there comes a point where that doesn’t make sense anymore, as much as we love it.”\\nThe company will continue with its corporate sales and professional services, as well as with an operation focused on small- and medium-size businesses, an area that has experienced growth, Mr. Gepner said.\\nOutside the store on Wednesday afternoon, word had not yet reached many customers, who said they were disappointed. Alan Wolk said he had been coming to Tekserve for about 15 years, including once to repair a keyboard damaged by spilled coffee.\\n“It’s been here forever,” he said. “These guys, they know their stuff. You can trust them.”\\nKerry Elson said she first came to Tekserve about a decade ago, when she was still working as an intern and trying to figure out how to use a new computer. She kept coming because she trusted those who worked there.\\n“I feel like this is my go-to,” she said. “It seemed like they were on your side.”',\n",
       " 'OMAHA — The United States Olympic swimming trials are the spectacle that Michael Phelps built. If he had not strapped the sport to his broad back and climbed to the Olympic summit six times in Athens in 2004 and eight times in eight nights in Beijing in 2008, there would be no pre-finals light show at CenturyLink Center, no ticket scalpers. The crowds would be far smaller than 14,000, and fewer athletes would be extending their careers past college with the help of corporate endorsements.\\nAnd there would have been at least one fewer entrant in the 200-meter butterfly.\\nPhelps’s influence on the sport he set out to make more prominent, more professional, goes well beyond the eyeballs and the excitement he has brought to swimming since he appeared in his first United States trials, a much more subdued affair in Indianapolis in 2000. Phelps has inspired a generation to swim, including a few world-caliber athletes who crafted competitive schedules in Phelps’s image.\\nNobody was Phelps’s equal in the 200-meter butterfly final on Wednesday. He qualified for his fifth Olympic team by winning in 1 minute 54.84 seconds, ahead of Tom Shields (1:55.81). Those in his wake included Chase Kalisz, 22, who finished fifth, having already earned a berth to the Rio Games with a victory in the 400-meter individual medley on Sunday.\\nKalisz’s best leg in the I.M. is the breaststroke, and he could probably be world-class in that stroke’s events if he put his mind (and his training) to it. But Kalisz grew up in the Baltimore suburbs, and his second home was Meadowbrook Aquatic & Fitness Center, which Phelps had made famous as the most illustrious in a long line of star swimmers produced by North Baltimore Aquatic Club.\\nKalisz wanted to be like Mike, so he made himself into a world-class butterfly swimmer. “Me doing butterfly is a testament to me wanting to swim the same event as Michael,” Kalisz said. “Butterfly didn’t come natural to me.”\\nHe added: “Butterfly was something I had to work at, and I just loved racing next to Michael, and I did that enough that ultimately I would say the 200 butterfly is probably my second-best event. So I think me just wanting to emulate Michael so much is why my 2 fly is the way it is.”\\nThe Phelps effect knows no geographical boundaries. At the 2012 Olympics, the South African Chad Le Clos swam the same four individual events as Phelps (the 100 and 200 butterfly and the 200 and 400 I.M.). After handing Phelps his first international defeat in 10 years in the 200 butterfly, Le Clos explained that he had added more events to his program, including the one that gave him a gold medal, after watching Phelps win a record eight golds in Beijing.\\n“He was the reason I swam the butterfly,” Le Clos said. “It’s not a joke.”\\nHe added: “That’s why I swim the 200 freestyle, both the I.M.s. I don’t swim it for any other reason than just because Michael does.”\\nLe Clos took it personally when Phelps said last year that the men’s butterfly times around the world had been slow after the London Games, a factor that nudged Phelps out of retirement. After winning the 100 butterfly in 50.56 seconds at last summer’s world championships in Russia — a competition from which Phelps was absent — Le Clos crowed that his idol could “keep quiet now.”\\nPhelps, who competed at the United States senior nationals last summer after being removed from the American squad for the world championships following a drunken-driving arrest, responded hours later with a 50.45 to win the 100 butterfly.\\n“Chad liked me, and then he didn’t like me,” Phelps said recently with a laugh. “He said I was his hero, and then he was calling me out.”\\nIn the winter of his career, Phelps finds himself in a position similar to that of Tiger Woods: The children he inspired have grown up to provide some of his fiercest competition.\\nAt the 2014 Pan Pacific Championships in Australia, Daiya Seto of Japan shyly approached Phelps and showed him a photograph, taken at the 2001 edition of the meet in Japan. It was of a 7-year-old Seto, now one of the top individual medley swimmers in the world, posing with Phelps. “It was unbelievable,” Phelps said. “It’s insane.”\\nThe Australian Mitch Larkin had not yet become a worldbeater in the backstroke events when he had a memorable encounter with Phelps. It was in 2012, at an Olympic tuneup meet in the United States. Larkin said he had been walking on the pool deck after racing in the 200 I.M. when Phelps called him by name, praised his effort and said, “Keep doing what you’re doing.”\\nLarkin said, “That was a massive moment for me.”\\nHe said he had called his parents back in Australia, the time difference be damned, to tell them about the encouragement. “It just brings tears to my eyes remembering how excited Mitch was,” said Larkin’s mother, Judy. “It was a lovely moment for him that he’ll always treasure.”\\nFour years later, Larkin, 22, is the reigning world champion and the world No. 1 in the 100 and 200 backstrokes. Phelps’s magnanimous gesture, however indirectly, could end up spelling the end to the United States’ dominance in the stroke. The American men have won the last five Olympic gold medals awarded in the backstroke events.\\nThe loss to Le Clos notwithstanding, Phelps has owned the 200 butterfly since placing fifth in the event at the 2000 Olympics at age 15. He has held the world record continuously since 2001, lowering it by 3.41 seconds in that span, to 1:51.51.\\nBetween 2007 and 2009, his peak performance years, Phelps posted the four fastest times in history in the event. His 1:52.94 at last summer’s senior nationals led the world rankings in 2015.\\nThe world has closed the gap, but Phelps remains the gold standard.']"
      ]
     },
     "execution_count": 10,
     "metadata": {},
     "output_type": "execute_result"
    }
   ],
   "source": [
    "nyt_list[0:5] #check for evens"
   ]
  },
  {
   "cell_type": "code",
   "execution_count": 11,
   "metadata": {},
   "outputs": [
    {
     "data": {
      "text/plain": [
       "8893"
      ]
     },
     "execution_count": 11,
     "metadata": {},
     "output_type": "execute_result"
    }
   ],
   "source": [
    "len(nyt_list)"
   ]
  },
  {
   "cell_type": "code",
   "execution_count": 12,
   "metadata": {},
   "outputs": [],
   "source": [
    "#To-Do: Count-Vectorizer -> KMeans\n",
    "#TfIdf Vectorizer -> KMeans"
   ]
  },
  {
   "cell_type": "code",
   "execution_count": 13,
   "metadata": {},
   "outputs": [],
   "source": [
    "#CountVectorizer takes true word counts, such as in Naive Bayes\n",
    "nyt = CountVectorizer(stop_words='english')\n",
    "#stop words are a list of words that you want to remove for overfrequency such as 'the'"
   ]
  },
  {
   "cell_type": "code",
   "execution_count": 14,
   "metadata": {},
   "outputs": [],
   "source": [
    "nyt_matrix = nyt.fit_transform(nyt_list)"
   ]
  },
  {
   "cell_type": "code",
   "execution_count": 15,
   "metadata": {},
   "outputs": [
    {
     "data": {
      "text/plain": [
       "<1x90724 sparse matrix of type '<class 'numpy.int64'>'\n",
       "\twith 263 stored elements in Compressed Sparse Row format>"
      ]
     },
     "execution_count": 15,
     "metadata": {},
     "output_type": "execute_result"
    }
   ],
   "source": [
    "nyt_matrix[0]"
   ]
  },
  {
   "cell_type": "code",
   "execution_count": 16,
   "metadata": {},
   "outputs": [],
   "source": [
    "nyt_kmeans = KMeans(n_clusters=8)"
   ]
  },
  {
   "cell_type": "code",
   "execution_count": 17,
   "metadata": {},
   "outputs": [
    {
     "name": "stdout",
     "output_type": "stream",
     "text": [
      "CPU times: user 7min 36s, sys: 3.83 s, total: 7min 40s\n",
      "Wall time: 7min 55s\n"
     ]
    },
    {
     "data": {
      "text/plain": [
       "KMeans(algorithm='auto', copy_x=True, init='k-means++', max_iter=300,\n",
       "    n_clusters=8, n_init=10, n_jobs=1, precompute_distances='auto',\n",
       "    random_state=None, tol=0.0001, verbose=0)"
      ]
     },
     "execution_count": 17,
     "metadata": {},
     "output_type": "execute_result"
    }
   ],
   "source": [
    "%%time\n",
    "nyt_kmeans.fit(nyt_matrix)"
   ]
  },
  {
   "cell_type": "code",
   "execution_count": 18,
   "metadata": {},
   "outputs": [
    {
     "name": "stdout",
     "output_type": "stream",
     "text": [
      "Top terms per cluster:\n",
      "Cluster 0:\n",
      " com\n",
      " nytimes\n",
      " 2016\n",
      " 05\n",
      " www\n",
      " html\n",
      " http\n",
      " url\n",
      " new\n",
      " mr\n",
      " said\n",
      " york\n",
      " like\n",
      " year\n",
      " world\n",
      " time\n",
      " years\n",
      " people\n",
      " company\n",
      " city\n",
      " week\n",
      " just\n",
      " business\n",
      " times\n",
      " ms\n",
      " million\n",
      " work\n",
      " percent\n",
      " trump\n",
      " university\n",
      "Cluster 1:\n",
      " said\n",
      " like\n",
      " new\n",
      " people\n",
      " ms\n",
      " time\n",
      " mr\n",
      " year\n",
      " years\n",
      " just\n",
      " school\n",
      " told\n",
      " day\n",
      " cancer\n",
      " did\n",
      " city\n",
      " world\n",
      " students\n",
      " going\n",
      " way\n",
      " home\n",
      " life\n",
      " schools\n",
      " state\n",
      " work\n",
      " percent\n",
      " don\n",
      " 000\n",
      " know\n",
      " think\n",
      "Cluster 2:\n",
      " mr\n",
      " said\n",
      " new\n",
      " people\n",
      " trump\n",
      " like\n",
      " state\n",
      " years\n",
      " year\n",
      " time\n",
      " ms\n",
      " president\n",
      " party\n",
      " clinton\n",
      " obama\n",
      " just\n",
      " campaign\n",
      " states\n",
      " did\n",
      " united\n",
      " court\n",
      " york\n",
      " government\n",
      " case\n",
      " company\n",
      " american\n",
      " political\n",
      " police\n",
      " city\n",
      " mrs\n",
      "Cluster 3:\n",
      " mr\n",
      " trump\n",
      " said\n",
      " clinton\n",
      " mrs\n",
      " campaign\n",
      " republican\n",
      " party\n",
      " new\n",
      " like\n",
      " people\n",
      " voters\n",
      " president\n",
      " state\n",
      " obama\n",
      " states\n",
      " sanders\n",
      " republicans\n",
      " senator\n",
      " cruz\n",
      " donald\n",
      " did\n",
      " presidential\n",
      " time\n",
      " white\n",
      " election\n",
      " political\n",
      " ms\n",
      " nominee\n",
      " just\n",
      "Cluster 4:\n",
      " said\n",
      " mr\n",
      " like\n",
      " new\n",
      " year\n",
      " time\n",
      " people\n",
      " game\n",
      " just\n",
      " years\n",
      " percent\n",
      " team\n",
      " world\n",
      " season\n",
      " did\n",
      " united\n",
      " states\n",
      " way\n",
      " make\n",
      " company\n",
      " second\n",
      " million\n",
      " day\n",
      " state\n",
      " city\n",
      " think\n",
      " going\n",
      " home\n",
      " long\n",
      " right\n",
      "Cluster 5:\n",
      " said\n",
      " mr\n",
      " ms\n",
      " new\n",
      " people\n",
      " like\n",
      " year\n",
      " years\n",
      " city\n",
      " time\n",
      " state\n",
      " just\n",
      " company\n",
      " government\n",
      " percent\n",
      " states\n",
      " 000\n",
      " united\n",
      " police\n",
      " million\n",
      " york\n",
      " work\n",
      " did\n",
      " american\n",
      " group\n",
      " school\n",
      " officials\n",
      " make\n",
      " say\n",
      " including\n",
      "Cluster 6:\n",
      " think\n",
      " policy\n",
      " financial\n",
      " market\n",
      " economy\n",
      " terms\n",
      " fed\n",
      " inflation\n",
      " monetary\n",
      " lot\n",
      " rates\n",
      " term\n",
      " actually\n",
      " like\n",
      " people\n",
      " labor\n",
      " new\n",
      " crisis\n",
      " don\n",
      " economic\n",
      " long\n",
      " little\n",
      " quite\n",
      " time\n",
      " bit\n",
      " things\n",
      " going\n",
      " large\n",
      " rate\n",
      " look\n",
      "Cluster 7:\n",
      " school\n",
      " schools\n",
      " children\n",
      " black\n",
      " white\n",
      " 307\n",
      " parents\n",
      " city\n",
      " students\n",
      " integration\n",
      " new\n",
      " education\n",
      " latino\n",
      " segregation\n",
      " segregated\n",
      " farragut\n",
      " public\n",
      " income\n",
      " class\n",
      " low\n",
      " york\n",
      " families\n",
      " like\n",
      " kids\n",
      " middle\n",
      " said\n",
      " court\n",
      " brooklyn\n",
      " told\n",
      " faraji\n"
     ]
    }
   ],
   "source": [
    "print(\"Top terms per cluster:\")\n",
    "order_centroids = nyt_kmeans.cluster_centers_.argsort()[:, ::-1]\n",
    "terms = nyt.get_feature_names()\n",
    "for i in range(8):\n",
    "    print(\"Cluster %d:\" % i),\n",
    "    for ind in order_centroids[i, :30]:\n",
    "        print(' %s' % terms[ind])"
   ]
  },
  {
   "cell_type": "code",
   "execution_count": null,
   "metadata": {},
   "outputs": [],
   "source": []
  },
  {
   "cell_type": "code",
   "execution_count": null,
   "metadata": {},
   "outputs": [],
   "source": []
  },
  {
   "cell_type": "code",
   "execution_count": 19,
   "metadata": {},
   "outputs": [],
   "source": [
    "#using tfidfvectorizer\n",
    "from sklearn.feature_extraction.text import TfidfVectorizer\n"
   ]
  },
  {
   "cell_type": "code",
   "execution_count": 20,
   "metadata": {},
   "outputs": [],
   "source": [
    "nyt2 = TfidfVectorizer(stop_words='english')\n",
    "X = nyt2.fit_transform(nyt_list)\n",
    "nyt_kmeans2 = KMeans(n_clusters=8)"
   ]
  },
  {
   "cell_type": "code",
   "execution_count": 21,
   "metadata": {},
   "outputs": [
    {
     "name": "stdout",
     "output_type": "stream",
     "text": [
      "CPU times: user 6min 8s, sys: 5.53 s, total: 6min 14s\n",
      "Wall time: 6min 29s\n"
     ]
    },
    {
     "data": {
      "text/plain": [
       "KMeans(algorithm='auto', copy_x=True, init='k-means++', max_iter=300,\n",
       "    n_clusters=8, n_init=10, n_jobs=1, precompute_distances='auto',\n",
       "    random_state=None, tol=0.0001, verbose=0)"
      ]
     },
     "execution_count": 21,
     "metadata": {},
     "output_type": "execute_result"
    }
   ],
   "source": [
    "%%time\n",
    "nyt_kmeans2.fit(X)"
   ]
  },
  {
   "cell_type": "code",
   "execution_count": 22,
   "metadata": {},
   "outputs": [
    {
     "name": "stdout",
     "output_type": "stream",
     "text": [
      "Top terms per cluster:\n",
      "Cluster 0:\n",
      " 05\n",
      " url\n",
      " http\n",
      " html\n",
      " www\n",
      " nytimes\n",
      " 2016\n",
      " com\n",
      " sports\n",
      " business\n",
      " nyregion\n",
      " world\n",
      " 08\n",
      " 04\n",
      " arts\n",
      " fashion\n",
      " 22\n",
      " 06\n",
      " asia\n",
      " dealbook\n",
      " 03\n",
      " 19\n",
      " 07\n",
      " 18\n",
      " 26\n",
      " 27\n",
      " 25\n",
      " 24\n",
      " magazine\n",
      " weddings\n",
      "Cluster 1:\n",
      " trump\n",
      " mr\n",
      " clinton\n",
      " mrs\n",
      " campaign\n",
      " said\n",
      " sanders\n",
      " republican\n",
      " party\n",
      " voters\n",
      " presidential\n",
      " donald\n",
      " delegates\n",
      " democratic\n",
      " republicans\n",
      " senator\n",
      " hillary\n",
      " nominee\n",
      " obama\n",
      " candidate\n",
      " primary\n",
      " election\n",
      " convention\n",
      " president\n",
      " democrats\n",
      " cruz\n",
      " state\n",
      " nomination\n",
      " states\n",
      " support\n",
      "Cluster 2:\n",
      " graduated\n",
      " students\n",
      " school\n",
      " university\n",
      " bride\n",
      " groom\n",
      " father\n",
      " york\n",
      " college\n",
      " new\n",
      " received\n",
      " married\n",
      " couple\n",
      " daughter\n",
      " son\n",
      " degree\n",
      " mother\n",
      " schools\n",
      " law\n",
      " dr\n",
      " officiated\n",
      " education\n",
      " met\n",
      " retired\n",
      " master\n",
      " laude\n",
      " cum\n",
      " june\n",
      " mr\n",
      " said\n",
      "Cluster 3:\n",
      " percent\n",
      " said\n",
      " european\n",
      " company\n",
      " britain\n",
      " billion\n",
      " union\n",
      " mr\n",
      " companies\n",
      " bank\n",
      " million\n",
      " financial\n",
      " market\n",
      " investors\n",
      " year\n",
      " europe\n",
      " stock\n",
      " quarter\n",
      " economy\n",
      " markets\n",
      " british\n",
      " vote\n",
      " united\n",
      " states\n",
      " economic\n",
      " oil\n",
      " new\n",
      " energy\n",
      " shares\n",
      " volkswagen\n",
      "Cluster 4:\n",
      " said\n",
      " mr\n",
      " new\n",
      " like\n",
      " ms\n",
      " people\n",
      " just\n",
      " time\n",
      " year\n",
      " years\n",
      " york\n",
      " city\n",
      " work\n",
      " art\n",
      " times\n",
      " world\n",
      " music\n",
      " company\n",
      " way\n",
      " million\n",
      " make\n",
      " don\n",
      " day\n",
      " women\n",
      " life\n",
      " week\n",
      " 000\n",
      " dr\n",
      " think\n",
      " museum\n",
      "Cluster 5:\n",
      " game\n",
      " season\n",
      " team\n",
      " said\n",
      " games\n",
      " mets\n",
      " players\n",
      " yankees\n",
      " league\n",
      " scored\n",
      " second\n",
      " play\n",
      " points\n",
      " warriors\n",
      " curry\n",
      " series\n",
      " coach\n",
      " goal\n",
      " win\n",
      " run\n",
      " inning\n",
      " hit\n",
      " teams\n",
      " player\n",
      " round\n",
      " ball\n",
      " innings\n",
      " home\n",
      " james\n",
      " runs\n",
      "Cluster 6:\n",
      " mr\n",
      " said\n",
      " police\n",
      " state\n",
      " court\n",
      " government\n",
      " people\n",
      " ms\n",
      " officials\n",
      " united\n",
      " city\n",
      " new\n",
      " law\n",
      " states\n",
      " year\n",
      " case\n",
      " obama\n",
      " president\n",
      " officers\n",
      " federal\n",
      " judge\n",
      " security\n",
      " islamic\n",
      " justice\n",
      " _____\n",
      " military\n",
      " department\n",
      " years\n",
      " country\n",
      " party\n",
      "Cluster 7:\n",
      " politics\n",
      " 05\n",
      " url\n",
      " http\n",
      " html\n",
      " www\n",
      " nytimes\n",
      " com\n",
      " 2016\n",
      " trump\n",
      " donald\n",
      " clinton\n",
      " hillary\n",
      " nytnow\n",
      " sanders\n",
      " briefing\n",
      " 27\n",
      " 26\n",
      " bernie\n",
      " 20\n",
      " 06\n",
      " 18\n",
      " evening\n",
      " fundraising\n",
      " gop\n",
      " 19\n",
      " campaign\n",
      " 04\n",
      " primary\n",
      " 17\n"
     ]
    }
   ],
   "source": [
    "print(\"Top terms per cluster:\")\n",
    "order_centroids = nyt_kmeans2.cluster_centers_.argsort()[:, ::-1]\n",
    "terms = nyt2.get_feature_names()\n",
    "for i in range(8):\n",
    "    print(\"Cluster %d:\" % i),\n",
    "    for ind in order_centroids[i, :30]:\n",
    "        print(' %s' % terms[ind])"
   ]
  },
  {
   "cell_type": "code",
   "execution_count": null,
   "metadata": {},
   "outputs": [],
   "source": []
  }
 ],
 "metadata": {
  "kernelspec": {
   "display_name": "Python 3",
   "language": "python",
   "name": "python3"
  },
  "language_info": {
   "codemirror_mode": {
    "name": "ipython",
    "version": 3
   },
   "file_extension": ".py",
   "mimetype": "text/x-python",
   "name": "python",
   "nbconvert_exporter": "python",
   "pygments_lexer": "ipython3",
   "version": "3.6.4"
  }
 },
 "nbformat": 4,
 "nbformat_minor": 2
}
